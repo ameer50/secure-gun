{
 "cells": [
  {
   "cell_type": "markdown",
   "metadata": {},
   "source": [
    "# <font color='light-blue' face='segoe ui'>PERMIT v. DENY Model</font>\n",
    "Ameer Syedibrahim\n",
    "\n",
    "#### PURPOSE:\n",
    "This machine learning model is trained on a dataset containing images of hunting animals (targets which humans are permitted to shoot at) and crowds of people (targets which humans are not permitted to shoot at)\n",
    "#### NOTE:\n",
    "The model was trained using a 5-layer Convolutional Neural Network. All images are used from the ImageNet© Database.\n",
    "Hardware limitations prevented the use of large datasets. Thus, the accuracy of the model in the detection hunting animals is relatively low since 2,700 was not sufficient for an accurate representation. However, the accuracy of the model in the detection of crowds people is relatively high"
   ]
  },
  {
   "cell_type": "code",
   "execution_count": null,
   "metadata": {},
   "outputs": [],
   "source": [
    "#__________________________________________\n",
    "import keras #machine learning\n",
    "import numpy as np #math\n",
    "import scipy.misc\n",
    "import urllib,urllib.request\n",
    "import cv2\n",
    "from PIL import Image\n",
    "from keras.preprocessing.image import ImageDataGenerator, array_to_img, img_to_array, load_img\n",
    "from keras.models import Sequential\n",
    "from keras.layers import Conv2D, MaxPooling2D\n",
    "from keras.layers import Activation, Dropout, Flatten, Dense\n",
    "from resizeimage import resizeimage"
   ]
  },
  {
   "cell_type": "code",
   "execution_count": null,
   "metadata": {},
   "outputs": [],
   "source": [
    "datagen = ImageDataGenerator(\n",
    "        rotation_range=40,\n",
    "        width_shift_range=0.2,\n",
    "        height_shift_range=0.2,\n",
    "        shear_range=0.2,\n",
    "        zoom_range=0.2,\n",
    "        horizontal_flip=True,\n",
    "        fill_mode='nearest')\n",
    "\n",
    "img = load_img('data/train/permit/image(1).png')  # this is a PIL image\n",
    "img = img.resize((150,150))\n",
    "x = img_to_array(img)  # this is a Numpy array with shape (150, 150, 3)\n",
    "x = x.reshape((1,) + x.shape)  # this is a Numpy array with shape (1, 150, 150, 3)\n",
    "\n",
    "# the .flow() command below generates batches of randomly transformed images\n",
    "# and saves the results to the `preview/` directory\n",
    "i = 0\n",
    "for batch in datagen.flow(x, batch_size=1,\n",
    "                          save_to_dir='preview', save_prefix='permit', save_format='jpg'):\n",
    "    i += 1\n",
    "    if i > 20:\n",
    "        break  # otherwise the generator would loop indefinitely"
   ]
  },
  {
   "cell_type": "code",
   "execution_count": null,
   "metadata": {},
   "outputs": [],
   "source": [
    "model = Sequential()\n",
    "model.add(Conv2D(32, (3, 3), input_shape=(150, 150, 3)))\n",
    "model.add(Activation('relu'))\n",
    "model.add(MaxPooling2D(pool_size=(2, 2)))\n",
    "\n",
    "model.add(Conv2D(32, (3, 3)))\n",
    "model.add(Activation('relu'))\n",
    "model.add(MaxPooling2D(pool_size=(2, 2)))\n",
    "\n",
    "model.add(Conv2D(64, (3, 3)))\n",
    "model.add(Activation('relu'))\n",
    "model.add(MaxPooling2D(pool_size=(2, 2)))"
   ]
  },
  {
   "cell_type": "code",
   "execution_count": null,
   "metadata": {},
   "outputs": [],
   "source": [
    "model.add(Flatten())  # this converts our 3D feature maps to 1D feature vectors\n",
    "model.add(Dense(64))\n",
    "model.add(Activation('relu'))\n",
    "model.add(Dropout(0.5))\n",
    "model.add(Dense(1))\n",
    "model.add(Activation('sigmoid'))\n",
    "\n",
    "model.compile(loss='binary_crossentropy',\n",
    "              optimizer='rmsprop',\n",
    "              metrics=['accuracy'])"
   ]
  },
  {
   "cell_type": "code",
   "execution_count": null,
   "metadata": {},
   "outputs": [],
   "source": [
    "batch_size = 16\n",
    "\n",
    "# this is the augmentation configuration we will use for training\n",
    "train_datagen = ImageDataGenerator(\n",
    "        rescale=1./255,\n",
    "        shear_range=0.2,\n",
    "        zoom_range=0.2,\n",
    "        horizontal_flip=True)\n",
    "\n",
    "# this is the augmentation configuration we will use for testing:\n",
    "# only rescaling\n",
    "test_datagen = ImageDataGenerator(rescale=1./255)\n",
    "\n",
    "# this is a generator that will read pictures found in\n",
    "# subfolers of 'data/train', and indefinitely generate\n",
    "# batches of augmented image data\n",
    "train_generator = train_datagen.flow_from_directory(\n",
    "        'data/train',  # this is the target directory\n",
    "        target_size=(150, 150),  # all images will be resized to 150x150\n",
    "        batch_size=batch_size,\n",
    "        class_mode='binary')  # since we use binary_crossentropy loss, we need binary labels\n",
    "\n",
    "# this is a similar generator, for validation data\n",
    "validation_generator = test_datagen.flow_from_directory(\n",
    "        'data/validation',\n",
    "        target_size=(150, 150),\n",
    "        batch_size=batch_size,\n",
    "        class_mode='binary')"
   ]
  },
  {
   "cell_type": "code",
   "execution_count": null,
   "metadata": {},
   "outputs": [],
   "source": [
    "model.fit_generator(\n",
    "        train_generator,\n",
    "        steps_per_epoch=2000 // batch_size,\n",
    "        epochs=10,\n",
    "        validation_data=validation_generator,\n",
    "        validation_steps=800 // batch_size)\n",
    "model.save_weights('Weights/first_try_low_test.h5')  # always save your weights after training or during training"
   ]
  },
  {
   "cell_type": "code",
   "execution_count": null,
   "metadata": {},
   "outputs": [],
   "source": [
    "model.load_weights('Weights/first_try.h5')"
   ]
  },
  {
   "cell_type": "code",
   "execution_count": null,
   "metadata": {},
   "outputs": [],
   "source": [
    "def make_prediction(the_image):\n",
    "    \n",
    "    img = resizeimage.resize_cover(the_image, [150, 150])\n",
    "    new_img = img_to_array(img)\n",
    "    fin = new_img.reshape((1,) + new_img.shape)\n",
    "    prediction = model.predict(fin)\n",
    "    the_prediction = prediction[0][0]\n",
    "    \n",
    "    if the_prediction == 1.0:\n",
    "        \n",
    "        return \"PERMIT\"\n",
    "    \n",
    "    else:\n",
    "        return \"DENY\""
   ]
  },
  {
   "cell_type": "markdown",
   "metadata": {},
   "source": [
    "## <font color='green' face='segoe ui'>PERMIT TEST</font>\n",
    "289 new images of hunting animals were passed through the model\n",
    "\n",
    "Only 110 / 289 were correctly identified as PERMIT\n",
    "\n",
    "#### Accuracy: 38.1% ❌"
   ]
  },
  {
   "cell_type": "code",
   "execution_count": null,
   "metadata": {},
   "outputs": [],
   "source": [
    "for i in range(289):\n",
    "    rand = load_img('data/test/permit/image(' + str(i+1) + ').png')\n",
    "    print(make_prediction(rand))"
   ]
  },
  {
   "cell_type": "markdown",
   "metadata": {},
   "source": [
    "## <font color='red' face='segoe ui'>DENY TEST</font>\n",
    "\n",
    "154 new images of people were passed through the model\n",
    "\n",
    "All 154 / 154 were correctly identified as DENY\n",
    "\n",
    "#### Accuracy: 100% ✔️"
   ]
  },
  {
   "cell_type": "code",
   "execution_count": null,
   "metadata": {},
   "outputs": [],
   "source": [
    "for i in range(154):\n",
    "    rand = load_img('data/test/deny/image(' + str(i+1) + ').png')\n",
    "    print(make_prediction(rand))"
   ]
  },
  {
   "cell_type": "markdown",
   "metadata": {},
   "source": [
    "## <font color='orange' face='segoe ui'>ADDITIONAL EXPERIMENTATION</font>\n",
    "\n",
    "#### The low PERMIT Accuracy (36.8%) demanded further investigation\n",
    "\n",
    " _________________________________________________________"
   ]
  },
  {
   "cell_type": "markdown",
   "metadata": {},
   "source": [
    "## <font color='purple' face='segoe ui'>EXTRA TEST - Bison</font>\n",
    "\n",
    "387 new images of Bison were passed through the model from the same Image-Net source\n",
    "\n",
    "229/387 were correctly identified as PERMIT\n",
    "\n",
    "#### Accuracy: 59.2% \n",
    "\n",
    "\n",
    "#### <font color='red'>NOTE: Originally, 633 Bison images were passed for training</font>"
   ]
  },
  {
   "cell_type": "code",
   "execution_count": null,
   "metadata": {},
   "outputs": [],
   "source": [
    "for i in range(387):\n",
    "    rand = load_img('exp/bisontest_files/img(' + str(i+1) + ').png')\n",
    "    print(make_prediction(rand))"
   ]
  },
  {
   "cell_type": "markdown",
   "metadata": {},
   "source": [
    "## <font color='purple' face='segoe ui'>EXTRA TEST - Bear</font>\n",
    "\n",
    "492 new images of Bear were passed through the model from the same Image-Net source\n",
    "\n",
    "175/492 were correctly identified as PERMIT\n",
    "\n",
    "#### Accuracy: 35.6% ❌\n",
    "\n",
    "#### <font color='red'>NOTE: Originally, 499 Bear images were passed for training</font>"
   ]
  },
  {
   "cell_type": "code",
   "execution_count": null,
   "metadata": {},
   "outputs": [],
   "source": [
    "for i in range(491):\n",
    "    rand = load_img('exp/beartest_files/image(' + str(i+1) + ').png')\n",
    "    print(make_prediction(rand))"
   ]
  },
  {
   "cell_type": "markdown",
   "metadata": {},
   "source": [
    "## <font color='purple' face='segoe ui'>EXTRA TEST - Bighorn Sheep</font>\n",
    "\n",
    "246 new images of Bighorn Sheep were passed through the model from the same Image-Net source\n",
    "\n",
    "65/246 were correctly identified as PERMIT\n",
    "\n",
    "#### Accuracy: 26.4% ❌\n",
    "#### <font color='red'>NOTE: Originally, 388 Bighorn Sheep images were passed for training</font>"
   ]
  },
  {
   "cell_type": "code",
   "execution_count": null,
   "metadata": {},
   "outputs": [],
   "source": [
    "for i in range(246):\n",
    "    rand = load_img('exp/sheeptest_files/image(' + str(i+1) + ').png')\n",
    "    print(make_prediction(rand))"
   ]
  },
  {
   "cell_type": "markdown",
   "metadata": {},
   "source": [
    "### <font color='brown' face='segoe ui'>THE PATTERN</font>\n",
    "\n",
    "The greater the quantity of images passed during training, the higher the percent accuracy of model. By experimenting in blocks of animals, this idea became evident.\n",
    "\n",
    "#### <font color='red'>SOLUTION:\n",
    "Significantly increase the number of training images for EACH hunting animal</font>\n"
   ]
  },
  {
   "cell_type": "code",
   "execution_count": null,
   "metadata": {},
   "outputs": [],
   "source": [
    "model1 = Sequential()\n",
    "model1.add(Conv2D(32, (3, 3), input_shape=(3, 150, 150)))\n",
    "model1.add(Activation('relu'))\n",
    "model1.add(MaxPooling2D(pool_size=(2, 2)))\n",
    "\n",
    "model1.add(Conv2D(32, (3, 3)))\n",
    "model1.add(Activation('relu'))\n",
    "model1.add(MaxPooling2D(pool_size=(2, 2)))\n",
    "\n",
    "model1.add(Conv2D(64, (3, 3)))\n",
    "model1.add(Activation('relu'))\n",
    "model1.add(MaxPooling2D(pool_size=(2, 2)))"
   ]
  },
  {
   "cell_type": "code",
   "execution_count": null,
   "metadata": {},
   "outputs": [],
   "source": [
    "model1.add(Flatten())  # this converts our 3D feature maps to 1D feature vectors\n",
    "model1.add(Dense(64))\n",
    "model1.add(Activation('relu'))\n",
    "model1.add(Dropout(0.5))\n",
    "model1.add(Dense(1))\n",
    "model1.add(Activation('sigmoid'))\n",
    "\n",
    "model1.compile(loss='binary_crossentropy',\n",
    "              optimizer='rmsprop',\n",
    "              metrics=['accuracy'])"
   ]
  },
  {
   "cell_type": "code",
   "execution_count": null,
   "metadata": {},
   "outputs": [],
   "source": [
    "batch_size1 = 16\n",
    "\n",
    "# this is the augmentation configuration we will use for training\n",
    "train_datagen1 = ImageDataGenerator(\n",
    "        rescale=1./255,\n",
    "        shear_range=0.2,\n",
    "        zoom_range=0.2,\n",
    "        horizontal_flip=True)\n",
    "\n",
    "# this is the augmentation configuration we will use for testing:\n",
    "# only rescaling\n",
    "test_datagen1 = ImageDataGenerator(rescale=1./255)\n",
    "\n",
    "# this is a generator that will read pictures found in\n",
    "# subfolers of 'data/train', and indefinitely generate\n",
    "# batches of augmented image data\n",
    "train_generator1 = train_datagen1.flow_from_directory(\n",
    "        'data/train',  # this is the target directory\n",
    "        target_size=(150, 150),  # all images will be resized to 150x150\n",
    "        batch_size=batch_size1,\n",
    "        class_mode='binary')  # since we use binary_crossentropy loss, we need binary labels\n",
    "\n",
    "# this is a similar generator, for validation data\n",
    "validation_generator1 = test_datagen1.flow_from_directory(\n",
    "        'data/validation',\n",
    "        target_size=(150, 150),\n",
    "        batch_size=batch_size1,\n",
    "        class_mode='binary')"
   ]
  },
  {
   "cell_type": "code",
   "execution_count": null,
   "metadata": {},
   "outputs": [],
   "source": [
    "model1.fit_generator(\n",
    "        train_generator1,\n",
    "        steps_per_epoch=2000 // batch_size1,\n",
    "        epochs=50,\n",
    "        validation_data=validation_generator1,\n",
    "        validation_steps=800 // batch_size1)\n",
    "model1.save_weights('Weights/second_try.h5')  # always save your weights after training or during training"
   ]
  },
  {
   "cell_type": "code",
   "execution_count": null,
   "metadata": {},
   "outputs": [],
   "source": [
    "model1.load_weights('Weights/second_try.h5')"
   ]
  },
  {
   "cell_type": "code",
   "execution_count": null,
   "metadata": {},
   "outputs": [],
   "source": [
    "def make_prediction1(the_image):\n",
    "    \n",
    "    img = resizeimage.resize_cover(the_image, [150, 150])\n",
    "    new_img = img_to_array(img)\n",
    "    fin = new_img.reshape((1,) + new_img.shape)\n",
    "    prediction = model1.predict(fin)\n",
    "    the_prediction = prediction[0][0]\n",
    "    \n",
    "    if the_prediction == 1.0:\n",
    "        \n",
    "        return \"PERMIT\"\n",
    "    \n",
    "    else:\n",
    "        return \"DENY\""
   ]
  },
  {
   "cell_type": "markdown",
   "metadata": {},
   "source": [
    "## <font color='green' face='segoe ui'>PERMIT TEST 2.0</font>\n",
    "289 new images of hunting animals were passed through the model\n",
    "\n",
    "215 / 289 were correctly identified as PERMIT\n",
    "\n",
    "#### Accuracy: 74.4%"
   ]
  },
  {
   "cell_type": "code",
   "execution_count": null,
   "metadata": {},
   "outputs": [],
   "source": [
    "for i in range(289):\n",
    "    rand = load_img('data/test/permit/image(' + str(i+1) + ').png')\n",
    "    print(make_prediction1(rand))"
   ]
  },
  {
   "cell_type": "markdown",
   "metadata": {},
   "source": [
    "## <font color='red' face='segoe ui'>DENY TEST 2.0</font>\n",
    "\n",
    "154 new images of people were passed through the model\n",
    "\n",
    "153 / 154 were correctly identified as DENY\n",
    "\n",
    "#### Accuracy: 99.4% ✔️"
   ]
  },
  {
   "cell_type": "code",
   "execution_count": null,
   "metadata": {},
   "outputs": [],
   "source": [
    "for i in range(154):\n",
    "    rand = load_img('data/test/deny/image(' + str(i+1) + ').png')\n",
    "    print(make_prediction1(rand))"
   ]
  }
 ],
 "metadata": {
  "anaconda-cloud": {},
  "kernelspec": {
   "display_name": "Python 3",
   "language": "python",
   "name": "python3"
  },
  "language_info": {
   "codemirror_mode": {
    "name": "ipython",
    "version": 3
   },
   "file_extension": ".py",
   "mimetype": "text/x-python",
   "name": "python",
   "nbconvert_exporter": "python",
   "pygments_lexer": "ipython3",
   "version": "3.6.5"
  }
 },
 "nbformat": 4,
 "nbformat_minor": 1
}
