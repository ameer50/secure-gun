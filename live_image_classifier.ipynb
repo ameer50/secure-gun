{
 "cells": [
  {
   "cell_type": "markdown",
   "metadata": {},
   "source": [
    "# <font color='purple' face='segoe ui'>LIVE IMAGE CLASSIFIER + MOTOR CONTROLLER</font>\n",
    "<br>\n",
    "#### A 2nd Generation Model of the Image Classifier <br>\n",
    "\n",
    "#### Takes a picture from Raspberry Pi Camera and performs live image classification"
   ]
  },
  {
   "cell_type": "code",
   "execution_count": null,
   "metadata": {},
   "outputs": [],
   "source": [
    "import numpy as np #math\n",
    "import keras #machine learning\n",
    "import urllib,urllib.request\n",
    "import cv2\n",
    "import time, os, paramiko\n",
    "from PIL import Image\n",
    "from keras.preprocessing.image import ImageDataGenerator, array_to_img, img_to_array, load_img\n",
    "from keras.models import Sequential\n",
    "from keras.layers import Conv2D, MaxPooling2D\n",
    "from keras.layers import Activation, Dropout, Flatten, Dense\n",
    "from resizeimage import resizeimage"
   ]
  },
  {
   "cell_type": "code",
   "execution_count": null,
   "metadata": {},
   "outputs": [],
   "source": [
    "datagen = ImageDataGenerator(\n",
    "       rotation_range=40,\n",
    "       width_shift_range=0.2,\n",
    "       height_shift_range=0.2,\n",
    "       shear_range=0.2,\n",
    "       zoom_range=0.2,\n",
    "       horizontal_flip=True,\n",
    "       fill_mode='nearest')\n",
    "\n",
    "img = load_img('data/train/permit/image(1).png')  # this is a PIL image\n",
    "img = img.resize((150,150))\n",
    "x = img_to_array(img)  # this is a Numpy array with shape (150, 150, 3)\n",
    "x = x.reshape((1,) + x.shape)  # this is a Numpy array with shape (1, 150, 150, 3)\n",
    "# the .flow() command below generates batches of randomly transformed images\n",
    "# and saves the results to the `preview/` directory\n",
    "i = 0\n",
    "for batch in datagen.flow(x, batch_size=1,\n",
    "                         save_to_dir='preview', save_prefix='permit', save_format='jpg'):\n",
    "   i += 1\n",
    "   if i > 20:\n",
    "       break  # otherwise the generator would loop indefinitely \n",
    "\n",
    "\n",
    "model1 = Sequential()\n",
    "model1.add(Conv2D(32, (3, 3), input_shape=(150,150, 3)))\n",
    "model1.add(Activation('relu'))\n",
    "model1.add(MaxPooling2D(pool_size=(2, 2)))\n",
    "\n",
    "model1.add(Conv2D(32, (3, 3)))\n",
    "model1.add(Activation('relu'))\n",
    "model1.add(MaxPooling2D(pool_size=(2, 2)))\n",
    "\n",
    "model1.add(Conv2D(64, (3, 3)))\n",
    "model1.add(Activation('relu'))\n",
    "model1.add(MaxPooling2D(pool_size=(2, 2)))\n",
    "\n",
    "# In[4]:\n",
    "\n",
    "model1.add(Flatten())  # this converts our 3D feature maps to 1D feature vectors\n",
    "model1.add(Dense(64))\n",
    "model1.add(Activation('relu'))\n",
    "model1.add(Dropout(0.5))\n",
    "model1.add(Dense(1))\n",
    "model1.add(Activation('sigmoid'))\n",
    "\n",
    "model1.compile(loss='binary_crossentropy',\n",
    "              optimizer='rmsprop',\n",
    "              metrics=['accuracy'])\n"
   ]
  },
  {
   "cell_type": "code",
   "execution_count": null,
   "metadata": {},
   "outputs": [],
   "source": [
    "model1.load_weights('Weights/second_try.h5')"
   ]
  },
  {
   "cell_type": "code",
   "execution_count": null,
   "metadata": {},
   "outputs": [],
   "source": [
    "def make_prediction1(the_image):\n",
    "    \n",
    "    img = resizeimage.resize_cover(the_image, [150, 150])\n",
    "    new_img = img_to_array(img)\n",
    "    fin = new_img.reshape((1,) + new_img.shape)\n",
    "    prediction = model1.predict(fin)\n",
    "    the_prediction = prediction[0][0]\n",
    "    \n",
    "    if the_prediction == 1.0:\n",
    "        \n",
    "        return \"PERMIT\"\n",
    "    \n",
    "    else:\n",
    "        return \"DENY\""
   ]
  },
  {
   "cell_type": "code",
   "execution_count": null,
   "metadata": {},
   "outputs": [],
   "source": [
    "def identify():\n",
    "    \n",
    "    ssh = paramiko.SSHClient()\n",
    "    ssh.set_missing_host_key_policy(paramiko.AutoAddPolicy())\n",
    "    ssh.connect('192.168.1.3', username='pi', password='raspberry', port=22)\n",
    "    channel = ssh.invoke_shell()\n",
    "    out = channel.recv(9999)\n",
    "\n",
    "    channel.send(\"raspistill -o image.jpg -t 1400\\n\")\n",
    "    sftp = ssh.open_sftp()\n",
    "    sftp.get('image.jpg','C:\\\\Users\\\\Mint\\\\Documents\\\\secure_gun\\\\image.jpg',callback=None)\n",
    "    sftp.get('image.jpg','C:\\\\Users\\\\Mint\\\\Documents\\\\secure_gun\\\\image.jpg',callback=None)\n",
    "    sftp.get('image.jpg','C:\\\\Users\\\\Mint\\\\Documents\\\\secure_gun\\\\image.jpg',callback=None)\n",
    "    sftp.get('image.jpg','C:\\\\Users\\\\Mint\\\\Documents\\\\secure_gun\\\\image.jpg',callback=None)\n",
    "    sftp.close()\n",
    "    img = cv2.imread(\"image.jpg\")\n",
    "    image = Image.fromarray(img,'RGB')\n",
    "\n",
    "    final_pred = make_prediction1(image)\n",
    "    image.show()\n",
    "    os.remove('image.jpg')\n",
    "    if final_pred == 'PERMIT':\n",
    "        \n",
    "        channel.send('cd project\\n')\n",
    "        channel.send('python motorcontrol.py\\n')\n",
    "        time.sleep(7)\n",
    "        channel.send('python motorcontrol2.py\\n')\n",
    "        return final_pred\n",
    "    else:\n",
    "        return final_pred"
   ]
  },
  {
   "cell_type": "code",
   "execution_count": null,
   "metadata": {},
   "outputs": [],
   "source": [
    "print(identify())"
   ]
  },
  {
   "cell_type": "code",
   "execution_count": null,
   "metadata": {},
   "outputs": [],
   "source": []
  }
 ],
 "metadata": {
  "kernelspec": {
   "display_name": "Python 3",
   "language": "python",
   "name": "python3"
  },
  "language_info": {
   "codemirror_mode": {
    "name": "ipython",
    "version": 3
   },
   "file_extension": ".py",
   "mimetype": "text/x-python",
   "name": "python",
   "nbconvert_exporter": "python",
   "pygments_lexer": "ipython3",
   "version": "3.6.5"
  }
 },
 "nbformat": 4,
 "nbformat_minor": 2
}
