{
 "cells": [
  {
   "cell_type": "markdown",
   "metadata": {},
   "source": [
    "\n",
    "# <font color='green' face='segoe ui'>GPS Test Center</font>"
   ]
  },
  {
   "cell_type": "code",
   "execution_count": null,
   "metadata": {},
   "outputs": [],
   "source": [
    "import geopy, os, paramiko, time\n",
    "from geopy.geocoders import Nominatim"
   ]
  },
  {
   "cell_type": "code",
   "execution_count": null,
   "metadata": {},
   "outputs": [],
   "source": [
    "geolocator = Nominatim()"
   ]
  },
  {
   "cell_type": "code",
   "execution_count": null,
   "metadata": {},
   "outputs": [],
   "source": [
    "location = geolocator.reverse(\"33.348540,   -96.179180\")\n",
    "print(location.raw)"
   ]
  },
  {
   "cell_type": "code",
   "execution_count": null,
   "metadata": {},
   "outputs": [],
   "source": [
    "location = geolocator.geocode(\"1830 W Belt Line Rd, Carrollton, TX\")\n",
    "print(location.raw)"
   ]
  },
  {
   "cell_type": "code",
   "execution_count": null,
   "metadata": {},
   "outputs": [],
   "source": [
    "ssh = paramiko.SSHClient()\n",
    "ssh.set_missing_host_key_policy(paramiko.AutoAddPolicy())\n",
    "ssh.connect('192.168.1.16', username='pi', password='raspberry', port=22)\n",
    "channel = ssh.invoke_shell()\n",
    "out = channel.recv(9999)"
   ]
  },
  {
   "cell_type": "markdown",
   "metadata": {},
   "source": [
    "\n",
    "## <font color='red' face='segoe ui'>EXPERIMENTATION CODE FOR REMOTELY RUNNING GPS MODULE</font>\n",
    "Currently, the code below is not functional"
   ]
  },
  {
   "cell_type": "code",
   "execution_count": null,
   "metadata": {},
   "outputs": [],
   "source": [
    "def gps_run():\n",
    "    \n",
    "    channel.send('cd project\\n')\n",
    "    channel.send('python gps2.py\\n')\n",
    "    ssh.exec_command('python gps2.py \\n')\n",
    "    time.sleep(7)\n",
    "    sftp = ssh.open_sftp()\n",
    "    sftp.get('/home/pi/project/the_decision.txt','C:\\\\Users\\\\Mint\\\\Documents\\\\secure_gun\\\\the_decision.txt',callback=None)\n",
    "\n",
    "    sftp.get('/home/pi/project/statistics.txt','C:\\\\Users\\\\Mint\\\\Documents\\\\secure_gun\\\\statistics.txt',callback=None)\n",
    "    \n",
    "    \n",
    "    the_value = open('the_decision.txt','r').read()\n",
    "    sftp.close()                 \n",
    "    \n",
    "    return the_value"
   ]
  },
  {
   "cell_type": "code",
   "execution_count": null,
   "metadata": {},
   "outputs": [],
   "source": [
    "gps_run()"
   ]
  },
  {
   "cell_type": "code",
   "execution_count": null,
   "metadata": {},
   "outputs": [],
   "source": [
    "channel.send('python gps2.py\\n')"
   ]
  }
 ],
 "metadata": {
  "kernelspec": {
   "display_name": "Python 3",
   "language": "python",
   "name": "python3"
  },
  "language_info": {
   "codemirror_mode": {
    "name": "ipython",
    "version": 3
   },
   "file_extension": ".py",
   "mimetype": "text/x-python",
   "name": "python",
   "nbconvert_exporter": "python",
   "pygments_lexer": "ipython3",
   "version": "3.6.4"
  }
 },
 "nbformat": 4,
 "nbformat_minor": 2
}
